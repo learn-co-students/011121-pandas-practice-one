{
 "cells": [
  {
   "cell_type": "markdown",
   "metadata": {
    "nbgrader": {
     "grade": false,
     "grade_id": "6c787cfa01395cf46351b4dda4627b2f",
     "locked": true,
     "schema_version": 3,
     "solution": false,
     "task": false
    }
   },
   "source": [
    "# Pandas 101\n",
    "\n",
    "This checkpoint contains many of the basic tasks you might need to do with Pandas!  At the end of an hour, commit and push what you have (remember, you can always return to this book later for practice)"
   ]
  },
  {
   "cell_type": "code",
   "execution_count": 106,
   "metadata": {
    "nbgrader": {
     "grade": false,
     "grade_id": "6279dc10f32018abafbe22fc2fbca6a3",
     "locked": true,
     "schema_version": 3,
     "solution": false,
     "task": false
    }
   },
   "outputs": [],
   "source": [
    "# Run this import cell without changes\n",
    "\n",
    "#data manipulation\n",
    "import pandas as pd\n",
    "\n",
    "#dataset\n",
    "from sklearn.datasets import load_boston"
   ]
  },
  {
   "cell_type": "markdown",
   "metadata": {
    "nbgrader": {
     "grade": false,
     "grade_id": "e764242ce680fb6705ea19c01e84e204",
     "locked": true,
     "schema_version": 3,
     "solution": false,
     "task": false
    }
   },
   "source": [
    "## Loading in the Boston Housing Dataset"
   ]
  },
  {
   "cell_type": "code",
   "execution_count": 107,
   "metadata": {
    "nbgrader": {
     "grade": false,
     "grade_id": "bf67671427b1aec076e56fd3c0b9d0a7",
     "locked": true,
     "schema_version": 3,
     "solution": false,
     "task": false
    }
   },
   "outputs": [],
   "source": [
    "# Run this cell without changes\n",
    "boston = load_boston()"
   ]
  },
  {
   "cell_type": "markdown",
   "metadata": {
    "nbgrader": {
     "grade": false,
     "grade_id": "bf92389221c3e83494fb7e8910618d6c",
     "locked": true,
     "schema_version": 3,
     "solution": false,
     "task": false
    }
   },
   "source": [
    "The variable `boston` is now a dictionary with several key-value pairs containing different aspects of the Boston Housing dataset.  "
   ]
  },
  {
   "cell_type": "markdown",
   "metadata": {
    "nbgrader": {
     "grade": false,
     "grade_id": "56e01ae8794441dd01673355b245db5f",
     "locked": true,
     "schema_version": 3,
     "solution": false,
     "task": false
    }
   },
   "source": [
    "#### What are the keys to `boston`?  \n",
    "\n",
    "Assign the keys the variable `boston_keys`"
   ]
  },
  {
   "cell_type": "code",
   "execution_count": 108,
   "metadata": {
    "nbgrader": {
     "grade": false,
     "grade_id": "df8b7db02f37892560ece9a7a425e01c",
     "locked": false,
     "schema_version": 3,
     "solution": true,
     "task": false
    }
   },
   "outputs": [],
   "source": [
    "### BEGIN SOLUTION\n",
    "\n",
    "\n",
    "from test_scripts.test_class import Test\n",
    "test = Test()\n",
    "\n",
    "boston_keys = boston.keys()\n",
    "\n",
    "test.save(len(boston_keys), 'boston_keys_len')\n",
    "\n",
    "### END SOLUTION"
   ]
  },
  {
   "cell_type": "code",
   "execution_count": 109,
   "metadata": {
    "nbgrader": {
     "grade": true,
     "grade_id": "7c91b73d1086cdcecbeaf4fa038f016c",
     "locked": true,
     "points": 1,
     "schema_version": 3,
     "solution": false,
     "task": false
    }
   },
   "outputs": [],
   "source": [
    "### BEGIN HIDDEN TESTS\n",
    "\n",
    "test_keys = boston.keys()\n",
    "\n",
    "\n",
    "\n",
    "try:\n",
    "    boston_keys\n",
    "except NameError:\n",
    "    raise AssertionError (\"Looks like 'boston_keys' wasn't assigned an object?\")\n",
    "\n",
    "    \n",
    "    \n",
    "assert type(boston_keys) == type(test_keys), \"Looks like there's a different type of object than dict_keys?\"\n",
    "    \n",
    "\n",
    "    \n",
    "test.run_test(len(boston_keys),\n",
    "              \"boston_keys_len\",\n",
    "              \"Looks like you have the wrong number of keys?\"\n",
    "             )\n",
    "\n",
    "\n",
    "\n",
    "assert test_keys == boston_keys, \"Looks like you assigned the wrong object to 'boston_keys'?\"\n",
    "\n",
    "\n",
    "\n",
    "### END HIDDEN TESTS"
   ]
  },
  {
   "cell_type": "markdown",
   "metadata": {
    "nbgrader": {
     "grade": false,
     "grade_id": "766c00d3031d2d026be10affa57be29e",
     "locked": true,
     "schema_version": 3,
     "solution": false,
     "task": false
    }
   },
   "source": [
    "#### Use the print command to print out the metadata for the dataset contained in the key `DESCR`"
   ]
  },
  {
   "cell_type": "code",
   "execution_count": 110,
   "metadata": {
    "nbgrader": {
     "grade": false,
     "grade_id": "56b57b33b8bff4b75a62bca54cb41e5a",
     "locked": false,
     "schema_version": 3,
     "solution": true,
     "task": false
    }
   },
   "outputs": [],
   "source": [
    "#your code here"
   ]
  },
  {
   "cell_type": "markdown",
   "metadata": {
    "nbgrader": {
     "grade": false,
     "grade_id": "98a6fb2817c8591f209f46fcec295fbd",
     "locked": true,
     "schema_version": 3,
     "solution": false,
     "task": false
    }
   },
   "source": [
    "#### Create a dataframe named `df_boston` with data contained in the key `data`.  \n",
    "\n",
    "#### Make the column names of `df_boston` the values from the key `feature_names`"
   ]
  },
  {
   "cell_type": "code",
   "execution_count": 111,
   "metadata": {
    "nbgrader": {
     "grade": false,
     "grade_id": "160c01dad11c4f07501a0b17e9d5a56e",
     "locked": false,
     "schema_version": 3,
     "solution": true,
     "task": false
    }
   },
   "outputs": [],
   "source": [
    "### BEGIN SOLUTION\n",
    "\n",
    "    \n",
    "df_boston = pd.DataFrame(boston['data'], columns=boston['feature_names'])\n",
    "\n",
    "df_boston.reindex(sorted(df_boston.columns), axis=1)\n",
    "df_boston.sort_values('CRIM', ascending=False, inplace=True)\n",
    "\n",
    "test.save(type(df_boston), 'df_boston_type')\n",
    "test.save(len(df_boston), 'df_boston_len')\n",
    "test.save(df_boston, 'df_boston')\n",
    "\n",
    "\n",
    "### END SOLUTION"
   ]
  },
  {
   "cell_type": "code",
   "execution_count": 112,
   "metadata": {
    "nbgrader": {
     "grade": true,
     "grade_id": "2bd1148e66403830d368bd9abb45d1f0",
     "locked": true,
     "points": 1,
     "schema_version": 3,
     "solution": false,
     "task": false
    }
   },
   "outputs": [],
   "source": [
    "### BEGIN HIDDEN TESTS\n",
    "\n",
    "try:\n",
    "    df_boston.reindex(sorted(df_boston.columns), axis=1)\n",
    "    df_boston.sort_values('CRIM', ascending=False, inplace=True)\n",
    "except NameError:\n",
    "    raise AssertionError (\"Looks like 'df_boston' isn't a dataframe?\")\n",
    "\n",
    "\n",
    "test.run_test(type(df_boston), \n",
    "              'df_boston_type',\n",
    "             \"Looks like 'df_boston' isn't a dataframe?\"\n",
    "             )\n",
    "\n",
    "test.run_test(len(df_boston), \n",
    "              'df_boston_len',\n",
    "              \"Looks like the dataframe is the wrong length?\"\n",
    "             )\n",
    "\n",
    "test.run_test(df_boston, \n",
    "              'df_boston',\n",
    "              \"Looks like the dataframe isn't what it should be?\"\n",
    "             )\n",
    "\n",
    "### END HIDDEN TESTS"
   ]
  },
  {
   "cell_type": "markdown",
   "metadata": {
    "nbgrader": {
     "grade": false,
     "grade_id": "f02e20f6aef32f49081404f6a6bb0194",
     "locked": true,
     "schema_version": 3,
     "solution": false,
     "task": false
    }
   },
   "source": [
    "The key `target` contains the median value of a house.  \n",
    "\n",
    "#### Add a column named \"MEDV\" to `df_boston` which contains the median value of a house"
   ]
  },
  {
   "cell_type": "code",
   "execution_count": 113,
   "metadata": {
    "nbgrader": {
     "grade": false,
     "grade_id": "3cfac3474f1e67cfceecb7036e84b4cd",
     "locked": false,
     "schema_version": 3,
     "solution": true,
     "task": false
    }
   },
   "outputs": [],
   "source": [
    "### BEGIN SOLUTION\n",
    "\n",
    "\n",
    "df_boston['MEDV'] = boston['target']\n",
    "\n",
    "df_boston.reindex(sorted(df_boston.columns), axis=1)\n",
    "df_boston.sort_values('CRIM', ascending=False, inplace=True)\n",
    "\n",
    "test.save(df_boston, 'df_boston')\n",
    "\n",
    "\n",
    "\n",
    "### END SOLUTION"
   ]
  },
  {
   "cell_type": "code",
   "execution_count": 114,
   "metadata": {
    "nbgrader": {
     "grade": true,
     "grade_id": "8c7b7e863248cfd1ceafdfcc9724a58d",
     "locked": true,
     "points": 1,
     "schema_version": 3,
     "solution": false,
     "task": false
    }
   },
   "outputs": [],
   "source": [
    "### BEGIN HIDDEN TESTS\n",
    "\n",
    "\n",
    "try:\n",
    "    df_boston.reindex(sorted(df_boston.columns), axis=1)\n",
    "    df_boston.sort_values('CRIM', ascending=False, inplace=True)\n",
    "except NameError:\n",
    "    raise AssertionError (\"Looks like 'df_boston' isn't a dataframe?\")\n",
    "\n",
    "test.run_test(df_boston, 'df_boston', \"looks like the column wasn't added correctly?\")\n",
    "\n",
    "\n",
    "### END HIDDEN TESTS"
   ]
  },
  {
   "cell_type": "markdown",
   "metadata": {
    "nbgrader": {
     "grade": false,
     "grade_id": "301a97586e5c669d52cc843f0a968a8a",
     "locked": true,
     "schema_version": 3,
     "solution": false,
     "task": false
    }
   },
   "source": [
    "## Data Exploration"
   ]
  },
  {
   "cell_type": "markdown",
   "metadata": {
    "nbgrader": {
     "grade": false,
     "grade_id": "e2a3eacb2a22ad5cdec8d50f25759201",
     "locked": true,
     "schema_version": 3,
     "solution": false,
     "task": false
    }
   },
   "source": [
    "#### Show the first 5 rows of the dataframe with the `head` method"
   ]
  },
  {
   "cell_type": "code",
   "execution_count": 115,
   "metadata": {
    "nbgrader": {
     "grade": false,
     "grade_id": "b626b85a3b26e37ebc4dc6bc61b77fc6",
     "locked": false,
     "schema_version": 3,
     "solution": true,
     "task": false
    }
   },
   "outputs": [],
   "source": [
    "#your code here"
   ]
  },
  {
   "cell_type": "markdown",
   "metadata": {
    "nbgrader": {
     "grade": false,
     "grade_id": "0a648bdd25ca0c9849328a922d2e815c",
     "locked": true,
     "schema_version": 3,
     "solution": false,
     "task": false
    }
   },
   "source": [
    "#### Show the summary statistics of all columns with the `describe` method"
   ]
  },
  {
   "cell_type": "code",
   "execution_count": 116,
   "metadata": {
    "nbgrader": {
     "grade": true,
     "grade_id": "cde96ca0e91e047645c62689f9e70b3d",
     "locked": true,
     "points": 1,
     "schema_version": 3,
     "solution": false,
     "task": false
    }
   },
   "outputs": [],
   "source": [
    "#your code here"
   ]
  },
  {
   "cell_type": "markdown",
   "metadata": {
    "nbgrader": {
     "grade": false,
     "grade_id": "dca705a7bca18b7051f174c5acffa82d",
     "locked": true,
     "schema_version": 3,
     "solution": false,
     "task": false
    }
   },
   "source": [
    "#### Check the datatypes of all columns, and see how many nulls are in each column, using the `info` method"
   ]
  },
  {
   "cell_type": "code",
   "execution_count": 117,
   "metadata": {
    "nbgrader": {
     "grade": false,
     "grade_id": "e403971121572415853c91f193709ddf",
     "locked": false,
     "schema_version": 3,
     "solution": true,
     "task": false
    }
   },
   "outputs": [],
   "source": [
    "#your code here"
   ]
  },
  {
   "cell_type": "markdown",
   "metadata": {
    "nbgrader": {
     "grade": false,
     "grade_id": "51452e1255d8c4dc567ec4fa69ccc1d7",
     "locked": true,
     "schema_version": 3,
     "solution": false,
     "task": false
    }
   },
   "source": [
    "## Data Selection"
   ]
  },
  {
   "cell_type": "markdown",
   "metadata": {
    "nbgrader": {
     "grade": false,
     "grade_id": "668fcab9c8258a7d9f4dcb4621099670",
     "locked": true,
     "schema_version": 3,
     "solution": false,
     "task": false
    }
   },
   "source": [
    "#### Select all values from the column that contains the weighted distances to five Boston employment centres\n",
    "\n",
    "#### Assign this series to the variable `distances` \n",
    "\n",
    "*Hint: you printed out the information about what information variables contain in a cell above*"
   ]
  },
  {
   "cell_type": "code",
   "execution_count": 118,
   "metadata": {
    "nbgrader": {
     "grade": false,
     "grade_id": "0442510fcccffd08b14ffc0374f1d3bb",
     "locked": false,
     "schema_version": 3,
     "solution": true,
     "task": false
    }
   },
   "outputs": [],
   "source": [
    "### BEGIN SOLUTION\n",
    "\n",
    "distances = df_boston['DIS']\n",
    "\n",
    "distances = distances.sort_values(ascending=False, kind='mergesort')\n",
    "\n",
    "test.save(len(distances), 'distances_len')\n",
    "test.save(list(distances.index),'distances_index')\n",
    "test.save(list(distances.values), 'distances_values')\n",
    "\n",
    "### END SOLUTION"
   ]
  },
  {
   "cell_type": "code",
   "execution_count": 119,
   "metadata": {
    "nbgrader": {
     "grade": true,
     "grade_id": "145ad1a191773b7dd01d7e5d12460cab",
     "locked": true,
     "points": 1,
     "schema_version": 3,
     "solution": false,
     "task": false
    }
   },
   "outputs": [],
   "source": [
    "### BEGIN HIDDEN TESTS\n",
    "\n",
    "try:\n",
    "    distances = df_boston['DIS']\n",
    "    distances = distances.sort_values(ascending=False, kind='mergesort')\n",
    "    \n",
    "except NameError:\n",
    "    raise AssertionError (\"Looks like `distances` isn't assigned anything?\")\n",
    "\n",
    "test.run_test(len(distances),\n",
    "              'distances_len',\n",
    "              \"Looks like you have the wrong number of values?\"\n",
    "             \n",
    "             )\n",
    "\n",
    "test.run_test(list(distances.index),\n",
    "             \"distances_index\",\n",
    "              \"Looks like you have the wrong index?\"\n",
    "             )\n",
    "\n",
    "test.run_test(list(distances.values),\n",
    "             \"distances_values\",\n",
    "              \"Looks like you have the wrong values?\"\n",
    "             )\n",
    "\n",
    "\n",
    "### END HIDDEN TESTS"
   ]
  },
  {
   "cell_type": "markdown",
   "metadata": {
    "nbgrader": {
     "grade": false,
     "grade_id": "6ee3236a7532072ef9cc73855c03ba8a",
     "locked": true,
     "schema_version": 3,
     "solution": false,
     "task": false
    }
   },
   "source": [
    "#### Select rows 10-20 from the AGE, NOX, and MEDV columns\n",
    "\n",
    "#### Assign them to the variable `age_nox_medv`"
   ]
  },
  {
   "cell_type": "code",
   "execution_count": 120,
   "metadata": {
    "nbgrader": {
     "grade": false,
     "grade_id": "4df68aad35035270601e1d245a0909c0",
     "locked": false,
     "schema_version": 3,
     "solution": true,
     "task": false
    }
   },
   "outputs": [],
   "source": [
    "### BEGIN SOLUTION\n",
    "\n",
    "age_nox_medv = df_boston.loc[10:20, ['AGE', 'NOX', 'MEDV']]\n",
    "\n",
    "age_nox_medv.reindex(sorted(age_nox_medv.columns), axis=1)\n",
    "age_nox_medv.sort_values('AGE', ascending=False, inplace=True)\n",
    "\n",
    "test.save(age_nox_medv, 'age_nox_medv')\n",
    "\n",
    "\n",
    "### END SOLUTION"
   ]
  },
  {
   "cell_type": "code",
   "execution_count": 121,
   "metadata": {
    "nbgrader": {
     "grade": true,
     "grade_id": "c3e52251f40331642e50479f369543e9",
     "locked": true,
     "points": 1,
     "schema_version": 3,
     "solution": false,
     "task": false
    }
   },
   "outputs": [],
   "source": [
    "### BEGIN HIDDEN TESTS\n",
    "\n",
    "try:\n",
    "    age_nox_medv.reindex(sorted(age_nox_medv.columns), axis=1)\n",
    "    age_nox_medv.sort_values('AGE', ascending=False, inplace=True)\n",
    "except NameError:\n",
    "    raise AssertionError (\"Looks like `age_nox_medv` isn't assigned anything?\")\n",
    "\n",
    "test.run_test(age_nox_medv,\n",
    "              'age_nox_medv',\n",
    "              \"Looks like the wrong data was assigned?\"\n",
    "             )\n",
    "\n",
    "### END HIDDEN TESTS"
   ]
  },
  {
   "cell_type": "markdown",
   "metadata": {
    "nbgrader": {
     "grade": false,
     "grade_id": "7ebb5f8d0f0b5903d002a7f8c0a51c57",
     "locked": true,
     "schema_version": 3,
     "solution": false,
     "task": false
    }
   },
   "source": [
    "#### Select all rows where NOX is greater than .7 and CRIM is greater than 8\n",
    "\n",
    "#### Assign those rows the variable `nox_crim`"
   ]
  },
  {
   "cell_type": "code",
   "execution_count": 122,
   "metadata": {
    "nbgrader": {
     "grade": false,
     "grade_id": "8931518432df3e41f2384f6e8bed7f94",
     "locked": false,
     "schema_version": 3,
     "solution": true,
     "task": false
    }
   },
   "outputs": [
    {
     "name": "stderr",
     "output_type": "stream",
     "text": [
      "/Users/benoren/opt/anaconda3/lib/python3.7/site-packages/ipykernel_launcher.py:11: SettingWithCopyWarning: \n",
      "A value is trying to be set on a copy of a slice from a DataFrame\n",
      "\n",
      "See the caveats in the documentation: http://pandas.pydata.org/pandas-docs/stable/user_guide/indexing.html#returning-a-view-versus-a-copy\n",
      "  # This is added back by InteractiveShellApp.init_path()\n"
     ]
    }
   ],
   "source": [
    "### BEGIN SOLUTION\n",
    "\n",
    "mask = (\n",
    "    (df_boston['NOX']>.7) &\n",
    "    (df_boston['CRIM']>8)\n",
    ")\n",
    "\n",
    "nox_crim = df_boston[mask]\n",
    "\n",
    "nox_crim.reindex(sorted(nox_crim.columns), axis=1)\n",
    "nox_crim.sort_values('NOX', ascending=False, inplace=True)\n",
    "\n",
    "test.save(nox_crim, 'nox_crim')\n",
    "\n",
    "\n",
    "\n",
    "### END SOLUTION"
   ]
  },
  {
   "cell_type": "code",
   "execution_count": 123,
   "metadata": {
    "nbgrader": {
     "grade": true,
     "grade_id": "5cc136173ae78e2ee7acf32c0b8bde4f",
     "locked": true,
     "points": 1,
     "schema_version": 3,
     "solution": false,
     "task": false
    }
   },
   "outputs": [
    {
     "name": "stderr",
     "output_type": "stream",
     "text": [
      "/Users/benoren/opt/anaconda3/lib/python3.7/site-packages/ipykernel_launcher.py:5: SettingWithCopyWarning: \n",
      "A value is trying to be set on a copy of a slice from a DataFrame\n",
      "\n",
      "See the caveats in the documentation: http://pandas.pydata.org/pandas-docs/stable/user_guide/indexing.html#returning-a-view-versus-a-copy\n",
      "  \"\"\"\n"
     ]
    }
   ],
   "source": [
    "### BEGIN HIDDEN TESTS\n",
    "\n",
    "try:\n",
    "    nox_crim.reindex(sorted(nox_crim.columns), axis=1)\n",
    "    nox_crim.sort_values('AGE', ascending=False, inplace=True)\n",
    "    \n",
    "except NameError:\n",
    "    raise AssertionError (\"Looks like `nox_crim` isn't assigned anything?\")\n",
    "\n",
    "\n",
    "test.run_test(nox_crim,\n",
    "              \"nox_crim\",\n",
    "              \"Looks like the wrong data was assigned?\"\n",
    "             )\n",
    "\n",
    "\n",
    "### END HIDDEN TESTS"
   ]
  },
  {
   "cell_type": "markdown",
   "metadata": {
    "nbgrader": {
     "grade": false,
     "grade_id": "e15388480ba0079e626bdcd50f7e7c94",
     "locked": true,
     "schema_version": 3,
     "solution": false,
     "task": false
    }
   },
   "source": [
    "## Data Manipulation"
   ]
  },
  {
   "cell_type": "markdown",
   "metadata": {
    "nbgrader": {
     "grade": false,
     "grade_id": "84ec727297c56bf94f7573b6e20d9125",
     "locked": true,
     "schema_version": 3,
     "solution": false,
     "task": false
    }
   },
   "source": [
    "#### Add a column to the dataframe called \"MEDV*TAX\" which is the product of MEDV and TAX"
   ]
  },
  {
   "cell_type": "code",
   "execution_count": 124,
   "metadata": {
    "nbgrader": {
     "grade": false,
     "grade_id": "1c5e170882522d31bf0679b4e0388682",
     "locked": false,
     "schema_version": 3,
     "solution": true,
     "task": false
    }
   },
   "outputs": [],
   "source": [
    "### BEGIN SOLUTION\n",
    "\n",
    "df_boston['MEDV*TAX'] = df_boston['MEDV']*df_boston['TAX']\n",
    "\n",
    "df_boston.reindex(sorted(df_boston.columns), axis=1)\n",
    "df_boston.sort_values('AGE', ascending=False, inplace=True)\n",
    "\n",
    "test.save(df_boston, 'df_boston_medvtax')\n",
    "\n",
    "\n",
    "### END SOLUTION"
   ]
  },
  {
   "cell_type": "code",
   "execution_count": 125,
   "metadata": {
    "nbgrader": {
     "grade": true,
     "grade_id": "7343f433501162e608be62fd9eb43b6d",
     "locked": true,
     "points": 1,
     "schema_version": 3,
     "solution": false,
     "task": false
    }
   },
   "outputs": [],
   "source": [
    "### BEGIN HIDDEN TESTS\n",
    "\n",
    "try:\n",
    "    df_boston.reindex(sorted(df_boston.columns), axis=1)\n",
    "    df_boston.sort_values('AGE', ascending=False, inplace=True)\n",
    "except NameError:\n",
    "    raise AssertionError (\"Looks like `df_boston` isn't assigned anything?\")\n",
    "\n",
    "test.run_test(df_boston,\n",
    "              'df_boston_medvtax',\n",
    "              \"Looks like the wrong data was added?\"\n",
    "             )\n",
    "\n",
    "\n",
    "### END HIDDEN TESTS"
   ]
  },
  {
   "cell_type": "markdown",
   "metadata": {
    "nbgrader": {
     "grade": false,
     "grade_id": "45bd14f63d6739836f4891a072e10df0",
     "locked": true,
     "schema_version": 3,
     "solution": false,
     "task": false
    }
   },
   "source": [
    "#### What is the average median value of houses located on the Charles River?\n",
    "\n",
    "#### Assign your end calculation to the variable `val`"
   ]
  },
  {
   "cell_type": "code",
   "execution_count": 126,
   "metadata": {
    "nbgrader": {
     "grade": false,
     "grade_id": "38eaebf7d4fbac166c71f07c893397c8",
     "locked": false,
     "schema_version": 3,
     "solution": true,
     "task": false
    }
   },
   "outputs": [],
   "source": [
    "### BEGIN SOLUTION\n",
    "\n",
    "\n",
    "val = (\n",
    "    df_boston\n",
    "    [df_boston['CHAS']==1]\n",
    "    ['MEDV']\n",
    "    .mean()\n",
    ")\n",
    "\n",
    "val = val*1000\n",
    "val\n",
    "\n",
    "test.save(val, 'val')\n",
    "\n",
    "\n",
    "\n",
    "### END SOLUTION"
   ]
  },
  {
   "cell_type": "code",
   "execution_count": 127,
   "metadata": {
    "nbgrader": {
     "grade": true,
     "grade_id": "266c69f488ec771e94a51bee96657932",
     "locked": true,
     "points": 1,
     "schema_version": 3,
     "solution": false,
     "task": false
    }
   },
   "outputs": [],
   "source": [
    "### BEGIN HIDDEN TESTS\n",
    "\n",
    "import math\n",
    "\n",
    "if not math.isclose(val, test.load_ind('val'), rel_tol=.1):\n",
    "    raise AssertionError (\"Looks like you have the wrong calculation?\")\n",
    "\n",
    "### END HIDDEN TESTS"
   ]
  },
  {
   "cell_type": "markdown",
   "metadata": {
    "nbgrader": {
     "grade": false,
     "grade_id": "045217c17c081ec6e3d8136ca25bc0fa",
     "locked": true,
     "schema_version": 3,
     "solution": false,
     "task": false
    }
   },
   "source": [
    "#### Write a sentence that answers the above question"
   ]
  },
  {
   "cell_type": "markdown",
   "metadata": {
    "nbgrader": {
     "grade": true,
     "grade_id": "15f46a7b1a6ab6521670c20bf37dbbce",
     "locked": false,
     "points": 1,
     "schema_version": 3,
     "solution": true,
     "task": false
    }
   },
   "source": [
    "=== BEGIN MARK SCHEME ===\n",
    "\n",
    "\n",
    "\n",
    "'''The average median value of houses located along the Charles River is $28,440'''\n",
    "\n",
    "=== END MARK SCHEME ==="
   ]
  }
 ],
 "metadata": {
  "kernelspec": {
   "display_name": "Python 3",
   "language": "python",
   "name": "python3"
  },
  "language_info": {
   "codemirror_mode": {
    "name": "ipython",
    "version": 3
   },
   "file_extension": ".py",
   "mimetype": "text/x-python",
   "name": "python",
   "nbconvert_exporter": "python",
   "pygments_lexer": "ipython3",
   "version": "3.7.4"
  }
 },
 "nbformat": 4,
 "nbformat_minor": 4
}
